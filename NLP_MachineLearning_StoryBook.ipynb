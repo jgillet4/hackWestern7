{
  "nbformat": 4,
  "nbformat_minor": 0,
  "metadata": {
    "colab": {
      "name": "NLP_MachineLearning_StoryBook.ipynb",
      "provenance": [],
      "authorship_tag": "ABX9TyN4Z2VVlnMoh3wuUztBxt6n",
      "include_colab_link": true
    },
    "kernelspec": {
      "name": "python3",
      "display_name": "Python 3"
    }
  },
  "cells": [
    {
      "cell_type": "markdown",
      "metadata": {
        "id": "view-in-github",
        "colab_type": "text"
      },
      "source": [
        "<a href=\"https://colab.research.google.com/github/jgillet4/hackWestern7/blob/master/NLP_MachineLearning_StoryBook.ipynb\" target=\"_parent\"><img src=\"https://colab.research.google.com/assets/colab-badge.svg\" alt=\"Open In Colab\"/></a>"
      ]
    },
    {
      "cell_type": "code",
      "metadata": {
        "id": "2hb81ZDFzvM0"
      },
      "source": [
        ""
      ],
      "execution_count": null,
      "outputs": []
    },
    {
      "cell_type": "markdown",
      "metadata": {
        "id": "hgC3tShO0MmS"
      },
      "source": [
        "#NLP Processing with N-gram, Model 1"
      ]
    },
    {
      "cell_type": "code",
      "metadata": {
        "colab": {
          "base_uri": "https://localhost:8080/"
        },
        "id": "_vydyLBJ0ViX",
        "outputId": "eef6e62f-38ec-4026-ba1e-9da9964c640c"
      },
      "source": [
        "# >>> import nltk\n",
        "# >>> nltk.download('reuters')\n",
        "# >>> nltk.download('punkt')\n",
        "\n",
        "from nltk.corpus import reuters\n",
        "from nltk import bigrams, trigrams\n",
        "from collections import Counter, defaultdict\n",
        "\n",
        "# Create a placeholder for model\n",
        "model = defaultdict(lambda: defaultdict(lambda: 0))\n",
        "\n",
        "# Count frequency of co-occurance  \n",
        "for sentence in reuters.sents():\n",
        "    for w1, w2, w3 in trigrams(sentence, pad_right=True, pad_left=True):\n",
        "        model[(w1, w2)][w3] += 1\n",
        " \n",
        "# Let's transform the counts to probabilities\n",
        "for w1_w2 in model:\n",
        "    total_count = float(sum(model[w1_w2].values()))\n",
        "    for w3 in model[w1_w2]:\n",
        "        model[w1_w2][w3] /= total_count\n",
        "\n",
        "print(\"hello\")"
      ],
      "execution_count": 37,
      "outputs": [
        {
          "output_type": "stream",
          "text": [
            "hello\n"
          ],
          "name": "stdout"
        }
      ]
    },
    {
      "cell_type": "code",
      "metadata": {
        "colab": {
          "base_uri": "https://localhost:8080/"
        },
        "id": "P-5b4fdR1G3X",
        "outputId": "83ba4421-f8d9-4373-cef0-d32488fb962f"
      },
      "source": [
        "#use the above model to predict for two words, the next word\n",
        "dict(model[\"today\",\"the\"])"
      ],
      "execution_count": 39,
      "outputs": [
        {
          "output_type": "execute_result",
          "data": {
            "text/plain": [
              "{'Bank': 0.05555555555555555,\n",
              " 'European': 0.05555555555555555,\n",
              " 'Higher': 0.05555555555555555,\n",
              " 'Italian': 0.05555555555555555,\n",
              " 'Turkish': 0.05555555555555555,\n",
              " 'company': 0.16666666666666666,\n",
              " 'emirate': 0.05555555555555555,\n",
              " 'increase': 0.05555555555555555,\n",
              " 'newspaper': 0.05555555555555555,\n",
              " 'options': 0.05555555555555555,\n",
              " 'overseas': 0.05555555555555555,\n",
              " 'pound': 0.05555555555555555,\n",
              " 'price': 0.1111111111111111,\n",
              " 'public': 0.05555555555555555,\n",
              " 'time': 0.05555555555555555}"
            ]
          },
          "metadata": {
            "tags": []
          },
          "execution_count": 39
        }
      ]
    },
    {
      "cell_type": "markdown",
      "metadata": {
        "id": "e3FS3Pnm25Kj"
      },
      "source": [
        "# Creating full sentences"
      ]
    },
    {
      "cell_type": "code",
      "metadata": {
        "colab": {
          "base_uri": "https://localhost:8080/"
        },
        "id": "PycSU_MF28nY",
        "outputId": "0fc219a3-cda7-48ba-b3fd-2f7ee1f5ced2"
      },
      "source": [
        "import random\n",
        "\n",
        "# starting words\n",
        "text = [\"today\", \"the\"]\n",
        "sentence_finished = False\n",
        " \n",
        "while not sentence_finished:\n",
        "  # select a random probability threshold  \n",
        "  r = random.random()\n",
        "  accumulator = .0\n",
        "\n",
        "  for word in model[tuple(text[-2:])].keys():\n",
        "      accumulator += model[tuple(text[-2:])][word]\n",
        "      # select words that are above the probability threshold\n",
        "      if accumulator >= r:\n",
        "          text.append(word)\n",
        "          break\n",
        "\n",
        "  if text[-2:] == [None, None]:\n",
        "      sentence_finished = True\n",
        " \n",
        "print (' '.join([t for t in text if t]))\n"
      ],
      "execution_count": 42,
      "outputs": [
        {
          "output_type": "stream",
          "text": [
            "today the newspaper he saw an upward revised shortage forecast of the company ' s trade surplus countries to stimulate their economies , prolonged currency misalignment , debt problems of satisfying domestic demand .\n"
          ],
          "name": "stdout"
        }
      ]
    }
  ]
}